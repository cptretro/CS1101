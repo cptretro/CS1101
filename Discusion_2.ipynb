{
 "cells": [
  {
   "cell_type": "code",
   "execution_count": 3,
   "metadata": {},
   "outputs": [
    {
     "name": "stdout",
     "output_type": "stream",
     "text": [
      "Circumphrince of a circle: 169.64586\n"
     ]
    }
   ],
   "source": [
    "def print_circum(radius):\n",
    "    pi = 3.14159\n",
    "    print('Circumphrince of a circle:' , 2 * pi * int(radius))\n",
    "\n",
    "print_circum(input('radius of a circle: '))\n",
    "print_circum(input('radius of a circle: '))\n",
    "print_circum(input('radius of a circle: '))"
   ]
  }
 ],
 "metadata": {
  "kernelspec": {
   "display_name": "Python 3",
   "language": "python",
   "name": "python3"
  },
  "language_info": {
   "codemirror_mode": {
    "name": "ipython",
    "version": 3
   },
   "file_extension": ".py",
   "mimetype": "text/x-python",
   "name": "python",
   "nbconvert_exporter": "python",
   "pygments_lexer": "ipython3",
   "version": "3.12.0"
  }
 },
 "nbformat": 4,
 "nbformat_minor": 2
}
